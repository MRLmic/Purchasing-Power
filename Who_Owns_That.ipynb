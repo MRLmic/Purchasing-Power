{
 "cells": [
  {
   "cell_type": "code",
   "execution_count": null,
   "id": "34f4b522",
   "metadata": {},
   "outputs": [],
   "source": [
    "import sqlite3\n",
    "import pandas as pd"
   ]
  },
  {
   "cell_type": "code",
   "execution_count": null,
   "id": "0b272bb5",
   "metadata": {},
   "outputs": [],
   "source": [
    "## import CSV file and preview\n",
    "csv_file = \"Personal_Care.csv\"\n",
    "data = pd.read_csv(csv_file)\n",
    "\n",
    "data.head()"
   ]
  },
  {
   "cell_type": "code",
   "execution_count": null,
   "id": "0eaa88e3",
   "metadata": {},
   "outputs": [],
   "source": [
    "## initialize sqlite3 db\n",
    "db_name = \"ownership.db\"\n",
    "conn = sqlite3.connect(db_name)\n",
    "cursor = conn.cursor()"
   ]
  },
  {
   "cell_type": "code",
   "execution_count": null,
   "id": "ab7561f4",
   "metadata": {},
   "outputs": [],
   "source": [
    "## create table for feminine care products\n",
    "table_name = \"fem_care\"\n",
    "cursor.execute(f\"\"\"\n",
    "    CREATE TABLE IF NOT EXISTS {table_name} (\n",
    "    id INTEGER PRIMARY KEY AUTOINCREMENT,\n",
    "    brand TEXT,\n",
    "    owner TEXT,\n",
    "    ownershipType TEXT,\n",
    "    notes TEXT\n",
    "    )\n",
    "    \"\"\")"
   ]
  },
  {
   "cell_type": "code",
   "execution_count": null,
   "id": "b10bf048",
   "metadata": {},
   "outputs": [],
   "source": [
    "## add data to table\n",
    "data.to_sql(table_name, conn, if_exists='append', index=False)"
   ]
  },
  {
   "cell_type": "code",
   "execution_count": null,
   "id": "4b97e87c",
   "metadata": {},
   "outputs": [],
   "source": [
    "## print data from table\n",
    "cursor.execute(\"SELECT * FROM fem_care\")\n",
    "tables = cursor.fetchall()\n",
    "print(tables)"
   ]
  },
  {
   "cell_type": "code",
   "execution_count": null,
   "id": "7451b06b",
   "metadata": {
    "scrolled": true
   },
   "outputs": [],
   "source": [
    "## print schema\n",
    "cursor.execute(\"PRAGMA table_info(fem_care)\")\n",
    "schema = cursor.fetchall()\n",
    "print(schema)\n",
    "\n"
   ]
  },
  {
   "cell_type": "code",
   "execution_count": null,
   "id": "c0d4a594",
   "metadata": {},
   "outputs": [],
   "source": []
  }
 ],
 "metadata": {
  "kernelspec": {
   "display_name": "Python 3 (ipykernel)",
   "language": "python",
   "name": "python3"
  },
  "language_info": {
   "codemirror_mode": {
    "name": "ipython",
    "version": 3
   },
   "file_extension": ".py",
   "mimetype": "text/x-python",
   "name": "python",
   "nbconvert_exporter": "python",
   "pygments_lexer": "ipython3",
   "version": "3.11.5"
  }
 },
 "nbformat": 4,
 "nbformat_minor": 5
}
